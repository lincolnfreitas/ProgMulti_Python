{
 "cells": [
  {
   "cell_type": "markdown",
   "metadata": {},
   "source": [
    "Exercícios10 - Lista de Exercícios Python\n",
    " \n",
    "### Nome: Lincoln de Freitas Almeida RA:816119071 SI3ANMCA"
   ]
  },
  {
   "cell_type": "markdown",
   "metadata": {},
   "source": [
    "#### 1- Menor de dois pares: Escreva uma função que retorne o menor de dois números dados se ambos os números forem pares, mas retorna o maior se um dos dois for ímpar. \n",
    "#### Exemplo: \n",
    "#### menor_de_dois_pares(2,4) --> 2 \n",
    "#### menor_de_dois_pares (2,5) --> 5 "
   ]
  },
  {
   "cell_type": "code",
   "execution_count": 2,
   "metadata": {},
   "outputs": [
    {
     "name": "stdout",
     "output_type": "stream",
     "text": [
      "5\n",
      "9\n"
     ]
    }
   ],
   "source": [
    "def menor(num1,num2):\n",
    "    if num1 % 2 == 0 and num2 % 2 == 0:\n",
    "        if num1 < num2:\n",
    "            return num1\n",
    "        else:\n",
    "            return num2\n",
    "    else:\n",
    "        if num1 > num2:\n",
    "            return num1\n",
    "        else:\n",
    "            return num2\n",
    "        \n",
    "print(menor(5,1))\n",
    "print(menor(2,9))"
   ]
  },
  {
   "cell_type": "markdown",
   "metadata": {},
   "source": [
    "#### 2- Mesma letra: Escreva uma função que receba uma string com duas palavras e retorne True se ambas palavras começarem com a mesma letra. \n",
    "#### Exemplo: \n",
    "#### mesma_letra('Cão covarde') -> True \n",
    "#### mesma_letra('Vira Lata') -> False "
   ]
  },
  {
   "cell_type": "code",
   "execution_count": 3,
   "metadata": {},
   "outputs": [
    {
     "name": "stdout",
     "output_type": "stream",
     "text": [
      "Adicione uma palavra: Lincoln \n",
      "Adicione outra palavra: Freitas\n",
      "False\n"
     ]
    }
   ],
   "source": [
    "l1 = input(\"Adicione uma palavra: \")\n",
    "l2 = input(\"Adicione outra palavra: \")\n",
    "\n",
    "lista1 = list(l1)\n",
    "lista2 = list(l2)\n",
    "\n",
    "def palavras(lista1,lista2):\n",
    "    if lista1[0]== lista2[0]:\n",
    "        return True\n",
    "    else:\n",
    "        return False\n",
    "\n",
    "print(palavras(l1,l2))"
   ]
  },
  {
   "cell_type": "markdown",
   "metadata": {},
   "source": [
    "#### 3- Mestre Yoda: Dada uma sentença, a função deve retornar a sentença com as palavras na ordem reversa. \n",
    "#### Exemplo: \n",
    "#### mestre_yoda('Eu estou em casa') --> 'casa em estou Eu' \n",
    "#### mestre_yoda('Estamos prontos') --> 'prontos Estamos' "
   ]
  },
  {
   "cell_type": "code",
   "execution_count": 6,
   "metadata": {},
   "outputs": [
    {
     "name": "stdout",
     "output_type": "stream",
     "text": [
      "Insira um frase: olha eu aqui \n",
      "\n",
      "aqui\n",
      "eu\n",
      "olha\n",
      "None\n"
     ]
    }
   ],
   "source": [
    "def yoda(palavra):\n",
    "    y= len(palavra)\n",
    "    for x in range(0,y):\n",
    "        print(palavra[(y-x)-1])\n",
    "\n",
    "texto = input(\"Adicione um frase: \").split(\" \")\n",
    "\n",
    "print(yoda(texto))"
   ]
  },
  {
   "cell_type": "markdown",
   "metadata": {},
   "source": [
    "#### 4- Tem 33: Faça uma função que retorne True se, dada uma lista de inteiros, houver em alguma posição da lista um 3 do lado de outro 3. \n",
    "#### Exemplo: \n",
    "#### tem_33([1,3,3]) --> True \n",
    "#### tem_33([1,3,1,3]) --> False \n",
    "#### tem_33([3,1,3]) --> False "
   ]
  },
  {
   "cell_type": "code",
   "execution_count": 9,
   "metadata": {},
   "outputs": [],
   "source": [
    "def tem33(lista):\n",
    "    for x in range(1,len(lista)-1):\n",
    "        if lista[x]==3:\n",
    "            if lista[x+1]==3:\n",
    "                return True\n",
    "    else:\n",
    "        return False"
   ]
  },
  {
   "cell_type": "code",
   "execution_count": 11,
   "metadata": {},
   "outputs": [
    {
     "data": {
      "text/plain": [
       "False"
      ]
     },
     "execution_count": 11,
     "metadata": {},
     "output_type": "execute_result"
    }
   ],
   "source": [
    "lista=(3,3,13,1,31,1)\n",
    "tem33(lista)"
   ]
  },
  {
   "cell_type": "markdown",
   "metadata": {},
   "source": [
    "#### 5- Blackjack: Faça uma função que receba 3 inteiros entre 1 e 11. \n",
    "#### Se a soma deles for menor que 21, retorne o valor da soma. \n",
    "#### Se for mair do que 21 e houver um 11, subtraia 10 da soma antes de apresentar o resultado. \n",
    "#### Se o valor da soma passar de 21, retorne ‘ESTOUROU’. \n",
    "#### Exemplo: \n",
    "#### blackjack(5,6,7) --> 18 \n",
    "#### blackjack(9,9,9) --> 'ESTOUROU' \n",
    "#### blackjack(9,9,11) --> 19 "
   ]
  },
  {
   "cell_type": "code",
   "execution_count": 12,
   "metadata": {},
   "outputs": [],
   "source": [
    "def blackjack(x,y,z):\n",
    "    if x+y+z <=21:\n",
    "        return print(x+y+z)\n",
    "    \n",
    "    else:\n",
    "        if x==11:\n",
    "            x=1\n",
    "        elif y==11:\n",
    "            y=1\n",
    "        elif z==11:\n",
    "            z=1\n",
    "        \n",
    "        if x+y+z<=21:\n",
    "            return(print(x+y+z))\n",
    "        else:\n",
    "            return(\"Estourou\")\n",
    "    \n",
    "    "
   ]
  },
  {
   "cell_type": "code",
   "execution_count": 15,
   "metadata": {},
   "outputs": [
    {
     "data": {
      "text/plain": [
       "'Estourou'"
      ]
     },
     "execution_count": 15,
     "metadata": {},
     "output_type": "execute_result"
    }
   ],
   "source": [
    "blackjack(11,11,11)"
   ]
  },
  {
   "cell_type": "markdown",
   "metadata": {},
   "source": [
    "#### 6- Espião: Escreva uma função que receba uma lista de inteiros e retorne True se contém um 007 em ordem, mesmo que não contínuo. \n",
    "#### Exemplo: \n",
    "#### espiao([1,2,4,0,0,7,5]) --> True \n",
    "#### espiao([1,0,2,4,0,5,7]) --> True \n",
    "#### espiao([1,7,2,4,0,5,0]) --> False "
   ]
  },
  {
   "cell_type": "code",
   "execution_count": 20,
   "metadata": {},
   "outputs": [],
   "source": [
    "def espiao(lista):\n",
    "    for x in range(0,len(lista)):\n",
    "        if lista[x]==0:\n",
    "            y=x+1\n",
    "            for x in range(y,len(lista)):\n",
    "                if lista[x]==0:\n",
    "                    z=y+1\n",
    "                    for x in range(z,len(lista)):\n",
    "                        if lista[x]==7:\n",
    "                            return True\n",
    "    return False\n",
    "                            \n",
    "                        \n",
    "            "
   ]
  },
  {
   "cell_type": "code",
   "execution_count": 25,
   "metadata": {},
   "outputs": [
    {
     "data": {
      "text/plain": [
       "True"
      ]
     },
     "execution_count": 25,
     "metadata": {},
     "output_type": "execute_result"
    }
   ],
   "source": [
    "lista= [5,0,0,5,8,0,7]\n",
    "espiao(lista)"
   ]
  },
  {
   "cell_type": "markdown",
   "metadata": {},
   "source": [
    "### ORIENTAÇÃO A OBJETOS \n",
    "#### 7- Linha: Crie a classe Linha que tem dois atributos, coordenada1 e coordenada2. \n",
    "#### Cada coordenada é uma tupla que carrega duas coordenadas cartesianas (x,y) que denotam pontos do segmento de reta. \n",
    "#### Faça métodos que calculem o comprimento do segmento de reta e sua inclinação. "
   ]
  },
  {
   "cell_type": "code",
   "execution_count": 29,
   "metadata": {},
   "outputs": [
    {
     "name": "stdout",
     "output_type": "stream",
     "text": [
      "comprimento é: 5.0\n",
      "inclinação é: 1.3333333333333333\n"
     ]
    }
   ],
   "source": [
    "from math import sqrt as m\n",
    "\n",
    "class Linha:\n",
    "    def __init__(self,cord1,cord2):\n",
    "        self.cord1 = cord1\n",
    "        self.cord2 = cord2\n",
    "    \n",
    "    def calculaComprimento(self,cord1,cord2):\n",
    "        a,b = cord1\n",
    "        c,d = cord2\n",
    "        return m(((b - a)**2) + ((d - c)**2))\n",
    "    \n",
    "    def calculaInclinacao(self,cord1,cord2):\n",
    "        a,b = cord1\n",
    "        c,d = cord2\n",
    "        return ((d - c)/(b - a))\n",
    "    \n",
    "t1=(5,8)\n",
    "t2=(2,6)\n",
    "l = Linha(t1,t2)\n",
    "\n",
    "print(\"comprimento é: \" + str(l.calculaComprimento(t1,t2)))\n",
    "print(\"inclinação é: \" + str(l.calculaInclinacao(t1,t2)))"
   ]
  },
  {
   "cell_type": "markdown",
   "metadata": {},
   "source": [
    "#### 8- Figuras: Crie a seguinte hierarquia de classes de figuras geométricas. \n",
    "#### Veja na figura as fórmulas: \n",
    "#### a. A classe abstrata Figura deve ter o método abstrato area. \n",
    "#### b. A classe concreta Circulo é subclasse de Figura. \n",
    "#### c. A classe abstrata Poligono é subclasse de Figura e deve ter os atributos base e altura. \n",
    "#### d. As classes concretas Triangulo, Losango, Retangulo e Quadrado são subclasses de Poligono. Tente criar mais uma generalização aqui olhando as fórmulas da área. \n",
    "#### e. Os polígonos Retangulo e Quadrado devem implementar a interface Diagonal, que deve ter um método que calcula a diagonal. \n",
    "#### f. Crie uma classe Geometria com uma lista de Figuras com pelo menos uma figura de cada e imprima suas áreas, perímetros e diagonais. "
   ]
  },
  {
   "cell_type": "code",
   "execution_count": 35,
   "metadata": {},
   "outputs": [
    {
     "name": "stdout",
     "output_type": "stream",
     "text": [
      "12.56\n",
      "8.0\n"
     ]
    }
   ],
   "source": [
    "class Figuras:\n",
    "    def area(self):\n",
    "        pass\n",
    "    \n",
    "class Circulo(Figuras):\n",
    "    raio = 2\n",
    "    def _init_(self, raio):\n",
    "        self.raio = raio\n",
    "    \n",
    "    def area(self,raio):\n",
    "        return self.raio * 3.14 * 2\n",
    "    \n",
    "class Poligono(Figuras):\n",
    "    a = 2\n",
    "    b = 8\n",
    "    def _init_(self,b,a):\n",
    "        self.b = b\n",
    "        self.a = a\n",
    "        \n",
    "    def area(self,a,b):\n",
    "        return self.a * self.b / 2    \n",
    "        \n",
    "c = Circulo()\n",
    "p = Poligono()\n",
    "\n",
    "print(c.area(4))\n",
    "print(p.area(7,9))"
   ]
  },
  {
   "cell_type": "markdown",
   "metadata": {},
   "source": [
    "#### 9- Jogo de BlackJack: Faça um joguinho simples em Python. \n",
    "#### Aqui estão os requisitos: \n",
    "#### - Você precisa criar um jogo de BlackJack (21) baseado em texto simples \n",
    "#### - O jogo precisa ter um jogador contra um croupier automatizado. \n",
    "#### - O jogador pode desistir ou bater. \n",
    "#### - O jogador deve ser capaz de escolher o seu valor de aposta. \n",
    "#### - Você precisa acompanhar o dinheiro total do jogador. \n",
    "#### - Você precisa alertar o jogador de vitórias, derrotas ou estouros, etc ... \n",
    "#### E o mais importante: \n",
    "#### Você deve usar OOP e classes em alguma parte do seu jogo. \n",
    "#### Você não pode simplesmente usar funções no seu jogo. \n",
    "#### Use classes para ajudá-lo a definir o deck e a mão do jogador. \n",
    "#### Há muitas maneiras certas de fazer isso, então explore bem! "
   ]
  },
  {
   "cell_type": "code",
   "execution_count": null,
   "metadata": {},
   "outputs": [],
   "source": [
    "class carta:\n",
    "    manilha =\"\"\n",
    "    valor=0\n",
    "    index=0\n",
    "    def __init__(self,manilha,valor,index):\n",
    "        self.manilha = manilha\n",
    "        self.valor = valor\n",
    "        self.index= index\n",
    "    def __str__(self):\n",
    "        return f\"manilha {self.manilha} : valor {self.valor}\"\n",
    "def card_deck():\n",
    "    card_value = ['A','2','3','4','5','6','7','8','9','10','J','Q','K']\n",
    "    card_type = ['Copas','Espadas','Paus','Ouros']\n",
    "    deck = []\n",
    "    k  = 0\n",
    "    for i in card_type:\n",
    "        for j in card_value:\n",
    "            k+=1\n",
    "            cartas = carta(i,j,k)\n",
    "            deck.append(cartas)\n",
    "    return deck\n",
    "def carta_valor(carta,rodada):\n",
    "    if((carta.valor =='10')or (carta.valor =='J')or(carta.valor =='Q')or(carta.valor =='K')):\n",
    "        return 10\n",
    "    elif(carta.valor=='A'):\n",
    "        if(rodada==1):\n",
    "            return 11\n",
    "        else:\n",
    "            return 1\n",
    "    else:\n",
    "        return int(carta.valor)\n",
    "def cartas_ini(deck):\n",
    "    return  r.sample(deck,2)\n",
    "def carta_add(deck):\n",
    "    carta= r.sample(deck,1)\n",
    "    remove_from_deck(carta[0],deck)\n",
    "    print(carta)\n",
    "    return carta[0]\n",
    "def mao_atual(mao,soma):\n",
    "    for carta in mao:\n",
    "        print(carta)\n",
    "    print(f\"Soma Cartas: {soma}\")\n",
    "\n",
    "def remove_from_deck(carta,deck):\n",
    "    deck.pop(int(carta.index))\n",
    "def __main():\n",
    "    deck = card_deck()\n",
    "    print(len(deck))\n",
    "    mao = cartas_ini(deck)\n",
    "    soma =  0\n",
    "    rodada = 1\n",
    "    while soma<21:\n",
    "        if rodada ==1:\n",
    "            for cartas in mao:\n",
    "                remove_from_deck(cartas,deck)\n",
    "                soma+= carta_valor(cartas,1)\n",
    "                print(soma)\n",
    "        else:\n",
    "            cont = input(\"Quer mais uma ?Sim/Não\\n\")\n",
    "            if cont.upper() ==\"S\":\n",
    "                carta =carta_add(deck)\n",
    "                mao.append(carta)\n",
    "                soma+= carta_valor(carta,2)\n",
    "\n",
    "                pass\n",
    "            else:break\n",
    "\n",
    "        mao_atual(mao,soma) \n",
    "        rodada+=1\n",
    "    if soma==21:\n",
    "        print(\"Você ganhou !\")\n",
    "    elif soma>21:\n",
    "        print(\"Você Perdeu !\")\n",
    "    else:\n",
    "        print(\"Você desistiu!\")"
   ]
  }
 ],
 "metadata": {
  "kernelspec": {
   "display_name": "Python 3",
   "language": "python",
   "name": "python3"
  },
  "language_info": {
   "codemirror_mode": {
    "name": "ipython",
    "version": 3
   },
   "file_extension": ".py",
   "mimetype": "text/x-python",
   "name": "python",
   "nbconvert_exporter": "python",
   "pygments_lexer": "ipython3",
   "version": "3.6.5"
  }
 },
 "nbformat": 4,
 "nbformat_minor": 2
}
