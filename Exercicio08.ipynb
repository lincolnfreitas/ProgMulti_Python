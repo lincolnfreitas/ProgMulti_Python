{
 "cells": [
  {
   "cell_type": "markdown",
   "metadata": {},
   "source": [
    "Exercícios08 - Lista de Exercícios Python\n",
    " \n",
    "### Nome: Lincoln de freitas almeida SI3ANMCA"
   ]
  },
  {
   "cell_type": "markdown",
   "metadata": {},
   "source": [
    "### NÚMEROS E OPERAÇÕES ARITMÉTICAS \n",
    "#### 1- Faça um Programa que peça o raio de um círculo, calcule e mostre sua área. "
   ]
  },
  {
   "cell_type": "code",
   "execution_count": null,
   "metadata": {
    "collapsed": true
   },
   "outputs": [],
   "source": [
    "import math as m\n",
    "\n",
    "x = float(input(\"Insira o raio: \"))\n",
    "area = m.pi * (x**2)\n",
    "print(area)"
   ]
  },
  {
   "cell_type": "markdown",
   "metadata": {},
   "source": [
    "#### 2- Faça um Programa que calcule a área de um quadrado, em seguida mostre o dobro desta área para o usuário. "
   ]
  },
  {
   "cell_type": "code",
   "execution_count": null,
   "metadata": {
    "collapsed": true
   },
   "outputs": [],
   "source": [
    "x = float(input(\"Insira o valor do lado do quadrado: \"))\n",
    "area = 2* (x**2)\n",
    "print(area)"
   ]
  },
  {
   "cell_type": "markdown",
   "metadata": {},
   "source": [
    "#### 3- Faça um Programa que pergunte quanto você ganha por hora e o número de horas trabalhadas no mês. \n",
    "#### - Calcule e mostre o total do seu salário no referido mês. "
   ]
  },
  {
   "cell_type": "code",
   "execution_count": null,
   "metadata": {
    "collapsed": true
   },
   "outputs": [],
   "source": [
    "x = float(input(\"Insira o valor da hora trabalhada: \"))\n",
    "y = int(input(\"Insira o número de horas trabalhadas no mês : \"))\n",
    "total = x * y\n",
    "print(f'Salário total: R$ {total}')"
   ]
  },
  {
   "cell_type": "markdown",
   "metadata": {},
   "source": [
    "#### 4- Faça um Programa que peça a temperatura em graus Farenheit, transforme e mostre a temperatura em graus Celsius. \n",
    "#### C = (5 * (F-32) / 9). "
   ]
  },
  {
   "cell_type": "code",
   "execution_count": null,
   "metadata": {
    "collapsed": true
   },
   "outputs": [],
   "source": [
    "temperatura = float(input(\"Insira a temperatura em ºF: \"))\n",
    "C = (5 * (temperatura - 32)/9)\n",
    "print(f'Temperatura em ºC: {C}')"
   ]
  },
  {
   "cell_type": "markdown",
   "metadata": {},
   "source": [
    "#### 5- Faça um Programa que peça a temperatura em graus Celsius, transforme e mostre em graus Farenheit. "
   ]
  },
  {
   "cell_type": "code",
   "execution_count": null,
   "metadata": {
    "collapsed": true
   },
   "outputs": [],
   "source": [
    "temperatura = float(input(\"Insira a temperatura em ºC: \"))\n",
    "F = ((temperatura/5) * 9 + 32)\n",
    "print(f'Temperatura em ºF: {F}')"
   ]
  },
  {
   "cell_type": "markdown",
   "metadata": {},
   "source": [
    "#### 6- Faça um Programa que peça 2 números inteiros e um número real. Calcule e mostre: \n",
    "#### - O produto do dobro do primeiro com metade do segundo. \n",
    "#### - A soma do triplo do primeiro com o terceiro. \n",
    "#### - O terceiro elevado ao cubo. "
   ]
  },
  {
   "cell_type": "code",
   "execution_count": null,
   "metadata": {
    "collapsed": true
   },
   "outputs": [],
   "source": [
    "x = int(input(\"Insira um número inteiro: \"))\n",
    "y = int(input(\"Insira um número inteiro: \"))\n",
    "z = float(input(\"Insira um número real: \"))\n",
    "\n",
    "primeiro = ((x * 2) * (y/2))\n",
    "segundo = ((x * 3) + (z))\n",
    "terceiro = (z ** 3)\n",
    "\n",
    "lista = [primeiro, segundo, terceiro]\n",
    "\n",
    "for i in lista:\n",
    "    print(float(i))"
   ]
  },
  {
   "cell_type": "markdown",
   "metadata": {},
   "source": [
    "#### 7- João Papo-de-Pescador, homem de bem, comprou um microcomputador para controlar o rendimento diário de seu trabalho. \n",
    "#### Toda vez que ele traz um peso de peixes maior que o estabelecido pelo regulamento de pesca do estado de São Paulo (50 quilos) deve pagar uma multa de R$ 4,00 por quilo excedente. \n",
    "#### João precisa que você faça um programa que leia a variável peso (peso de peixes) e verifique se há excesso. \n",
    "#### Se houver, gravar na variável excesso e na variável multa o valor da multa que João deverá pagar. \n",
    "#### Caso contrário mostrar tais variáveis com o conteúdo ZERO. "
   ]
  },
  {
   "cell_type": "code",
   "execution_count": null,
   "metadata": {
    "collapsed": true
   },
   "outputs": [],
   "source": [
    "peso = float(input(\"Insira o valor do peso dos peixes coletados: \"))\n",
    "if(peso > 50):\n",
    "    excesso = peso - 50\n",
    "    multa = excesso * 4\n",
    "else:\n",
    "    excesso = 0\n",
    "    multa = 0\n",
    "print(30 * '-')\n",
    "print(f'Peso dos peixes: {peso}')\n",
    "print(f'Valor do excesso: {excesso}')\n",
    "print(f'Valor da multa: {multa}')"
   ]
  },
  {
   "cell_type": "markdown",
   "metadata": {},
   "source": [
    "#### 8- Faça um Programa que pergunte quanto você ganha por hora e o número de horas trabalhadas no mês. \n",
    "#### Calcule e mostre o total do seu salário no referido mês, sabendo-se que são descontados 11% para o Imposto de Renda, 8% para o INSS e 5% para o sindicato, faça um programa que nos dê: \n",
    "#### - Salário bruto. \n",
    "#### - Quanto pagou ao INSS. \n",
    "#### - Quanto pagou ao sindicato. \n",
    "#### - O salário líquido. \n",
    "#### - Calcule os descontos e o salário líquido, conforme a tabela abaixo: \n",
    "#### + Salário Bruto :  \n",
    "#### - IR (11%) :  \n",
    "#### - INSS (8%) :  \n",
    "#### - Sindicato ( 5%) :  \n",
    "#### = Salário Liquido :  \n",
    "#### Obs.: Salário Bruto - Descontos = Salário Líquido. "
   ]
  },
  {
   "cell_type": "code",
   "execution_count": null,
   "metadata": {
    "collapsed": true
   },
   "outputs": [],
   "source": [
    "x = float(input(\"Insira o valor da hora trabalhada: \"))\n",
    "y = int(input(\"Insira o número de horas trabalhadas no mês : \"))\n",
    "\n",
    "sl_bruto = x * y\n",
    "\n",
    "IR = sl_bruto * 0.11\n",
    "INSS = sl_bruto * 0.08\n",
    "SIND = sl_bruto * 0.05\n",
    "desconto = IR + INSS + SIND\n",
    "\n",
    "sl_liquido = sl_bruto - desconto\n",
    "print(f'Salário líquido no mês: {sl_liquido}')"
   ]
  },
  {
   "cell_type": "markdown",
   "metadata": {},
   "source": [
    "### STRINGS \n",
    "#### 9- Faça um programa que leia 2 strings e informe o conteúdo delas seguido do seu comprimento. \n",
    "#### Informe também se as duas strings possuem o mesmo comprimento e são iguais ou diferentes no conteúdo. \n",
    "#### Exemplo: \n",
    "#### String 1: Brasil Hexa 2018 \n",
    "#### String 2: Brasil! Hexa 2018! \n",
    "#### Tamanho de \"Brasil Hexa 2018\": 16 caracteres \n",
    "#### Tamanho de \"Brasil! Hexa 2018!\": 18 caracteres \n",
    "#### As duas strings são de tamanhos diferentes. \n",
    "#### As duas strings possuem conteúdo diferente. "
   ]
  },
  {
   "cell_type": "code",
   "execution_count": null,
   "metadata": {
    "collapsed": true
   },
   "outputs": [],
   "source": [
    "a =  input(\"Insira a primeira frase ou palavra: \")\n",
    "b = input(\"Insira a segunda frase ou palavra: \")\n",
    "\n",
    "if (len(a) == len(b)):\n",
    "    print(\"As duas strings possuem tamanho igual!\")\n",
    "else:\n",
    "    print(\"As duas strings possuem tamanho diferente!\")\n",
    "\n",
    "if (a == b):\n",
    "    print(\"As duas strings possuem conteúdo igual!\")\n",
    "else:\n",
    "    print(\"As duas strings possuem conteúdo diferente!\")"
   ]
  },
  {
   "cell_type": "markdown",
   "metadata": {},
   "source": [
    "#### 10- Faça um programa que permita ao usuário digitar o seu nome e em seguida mostre o nome do usuário de trás para frente utilizando somente letras maiúsculas. \n",
    "#### Dica: lembre−se que ao informar o nome o usuário pode digitar letras maiúsculas ou minúsculas. \n",
    "#### Observação: não use loops. "
   ]
  },
  {
   "cell_type": "code",
   "execution_count": null,
   "metadata": {
    "collapsed": true
   },
   "outputs": [],
   "source": [
    "nome = input(\"Insira seu nome: \")\n",
    "maiusculo = nome.upper()\n",
    "print(maiusculo[-1::-1])"
   ]
  },
  {
   "cell_type": "markdown",
   "metadata": {},
   "source": [
    "#### 11- Faça um programa que solicite a data de nascimento (dd/mm/aaaa) do usuário e imprima a data com o nome do mês por extenso. \n",
    "#### Data de Nascimento: 29/10/1973 \n",
    "#### Você nasceu em  29 de Outubro de 1973. "
   ]
  },
  {
   "cell_type": "code",
   "execution_count": null,
   "metadata": {
    "collapsed": true
   },
   "outputs": [],
   "source": [
    "dia, mes, ano = input(\"Insira a data de nascimento: \").split(\"/\")\n",
    "meses = ['Janeiro', 'Fevereiro', 'Março', 'Abril', 'Maio', 'Junho', 'Julho', \n",
    "         'Agosto', 'Setembro', 'Outubro', 'Novembro', 'Dezembro']\n",
    "if(int(dia) <= 31):\n",
    "    if(int(mes) <= 12):\n",
    "        m = meses[int(mes) - 1]\n",
    "        print(\"Você nasceu em %d de %s de %d\" %(int(dia), m, int(ano)))\n",
    "    else:\n",
    "        print(\"Insira um mês válido\")\n",
    "else:\n",
    "    print(\"Insira um dia válido\")\n",
    "    \n",
    "\n"
   ]
  },
  {
   "cell_type": "markdown",
   "metadata": {},
   "source": [
    "#### 12- Leet é uma forma de se escrever o alfabeto latino usando outros símbolos em lugar das letras, como números por exemplo. \n",
    "#### A própria palavra leet admite muitas variações, como l33t ou 1337. \n",
    "#### O uso do leet reflete uma subcultura relacionada ao mundo dos jogos de computador e internet, sendo muito usada para confundir os iniciantes e afirmar-se como parte de um grupo. \n",
    "#### Pesquise sobre as principais formas de traduzir as letras. \n",
    "#### Depois, faça um programa que peça uma texto e transforme-o para a grafia leet speak. "
   ]
  },
  {
   "cell_type": "code",
   "execution_count": null,
   "metadata": {
    "collapsed": true
   },
   "outputs": [],
   "source": [
    "#IMPORTO A BIBLIOTECA (MODULO) QUE CONTEM OS CARACTERES DO ALFABETO\n",
    "import string as s\n",
    "\n",
    "#SETANDO OS PRIMEIROS VALORES DAS VARIÁVEIS\n",
    "cont = 0\n",
    "dicionario = {}\n",
    "alfabeto_ascii = list(s.ascii_uppercase)\n",
    "alfabeto_leet = ['4', '8', '(', '|)', '3','|=', '6', ']-[', '1',\n",
    "                '_|', '|<', '|', '|v|', '|\\|', '0', '|º', '(,)', '|2',\n",
    "                '5', '7', '|_|','\\/', '\\/\\/', '><', '`/', '2']\n",
    "\n",
    "#CRIANDO O DICIONÁRIO COM AS LISTAS DO TIPO - KEY:VALUE\n",
    "while cont < len(alfabeto_ascii):\n",
    "    x = alfabeto_ascii[cont]\n",
    "    dicionario[x] = alfabeto_leet[cont]\n",
    "    cont += 1\n",
    "\n",
    "#PROCESSANDO...\n",
    "palavra = input(\"Insira uma palavra: \")\n",
    "n_palavra = palavra.upper()\n",
    "\n",
    "for k,v in dicionario.items():\n",
    "    n_palavra = n_palavra.replace(k,v)\n",
    "\n",
    "#IMPRIMINDO...\n",
    "print(\"Leet: %s\" %(n_palavra))\n",
    "    \n"
   ]
  },
  {
   "cell_type": "markdown",
   "metadata": {},
   "source": [
    "### LISTAS \n",
    "#### 13- Crie um programa que recebe uma lista de números e: \n",
    "#### - Retorne o maior elemento \n",
    "#### - Retorne a soma dos elementos \n",
    "#### - Retorne o número de ocorrências do primeiro elemento da lista \n",
    "#### - Retorne a média dos elementos \n",
    "#### - Retorne o valor mais próximo da média dos elementos \n",
    "#### - Retorne a soma dos elementos com valor negativo \n",
    "#### - Retorne a quantidade de vizinhos iguais "
   ]
  },
  {
   "cell_type": "code",
   "execution_count": null,
   "metadata": {
    "collapsed": true
   },
   "outputs": [],
   "source": [
    "x = 0\n",
    "lista_de_numeros = []\n",
    "vlr_proximo = 0\n",
    "negativos = 0\n",
    "iguais = []\n",
    "cont = 1\n",
    "\n",
    "entrada = input(\"Insira um lista de números: \")\n",
    "lista = entrada.split(\",\")\n",
    "\n",
    "for i in lista:\n",
    "    x = float(i)\n",
    "    lista_de_numeros.append(x) \n",
    "\n",
    "lista_ordenada = sorted(lista_de_numeros)\n",
    "p_elemento = lista_ordenada[0]\n",
    "media = sum(lista_ordenada)/len(lista_ordenada)\n",
    "\n",
    "print(\"O maior elemento da lista é: %.2f\" %(max(lista_ordenada)))\n",
    "print(\"A soma dos elementos da lista é: %.2f\" %(sum(lista_ordenada)))\n",
    "print(\"O número de ocorrências do primeiro elemento é: %d\" \n",
    "      %((lista_ordenada.count(p_elemento))))\n",
    "print(\"A média dos elementos da lista é: %.2f\" %(media))\n",
    "\n",
    "#ELEMENTO PRÓXIMO DA MÉDIA\n",
    "for elem in lista_ordenada:\n",
    "    if(elem < media):\n",
    "        vlr_proximo = elem\n",
    "print(\"O valor mais próximo da média dos elementos é: %.2f\" %(vlr_proximo))\n",
    "\n",
    "#SOMA DOS ELEMENTOS NEGATIVOS\n",
    "for elem in lista_ordenada:\n",
    "    if(elem < 0):\n",
    "        negativos += elem\n",
    "print(\"A soma dos elementos negativos é: %.2f\" %(negativos))\n",
    "\n",
    "#QUANTIDADE DE VIZINHOS IGUAIS\n",
    "while(cont < len(lista_ordenada)):\n",
    "    iguais.append(lista_ordenada.count(cont))\n",
    "    cont += 1\n",
    "print(f'Frequência dos valores da lista é: {iguais}')"
   ]
  },
  {
   "cell_type": "markdown",
   "metadata": {},
   "source": [
    "#### 14- Faça um programa que receba duas listas e retorne True se são iguais ou False caso contrario. \n",
    "#### Duas listas são iguais se possuem os mesmos valores e na mesma ordem. "
   ]
  },
  {
   "cell_type": "code",
   "execution_count": null,
   "metadata": {
    "collapsed": true
   },
   "outputs": [],
   "source": [
    "entrada1 = input(\"Insira os valores da lista 1: \")\n",
    "lista1 = entrada1.split(\",\")\n",
    "\n",
    "entrada2 = input(\"Insira os valores da lista 2: \")\n",
    "lista2 = entrada2.split(\",\")\n",
    "\n",
    "x = 0\n",
    "lista3 = []\n",
    "\n",
    "for elem in lista1:\n",
    "    if(elem == lista2[x]):\n",
    "        lista3.append(lista2[x])\n",
    "        x += 1\n",
    "\n",
    "if(len(lista1) != len(lista3)):\n",
    "    print(False)\n",
    "else:\n",
    "    print(True)"
   ]
  },
  {
   "cell_type": "markdown",
   "metadata": {},
   "source": [
    "#### 15- Faça um programa que receba duas listas e retorne True se têm os mesmos elementos ou False caso contrário. \n",
    "#### Duas listas possuem os mesmos elementos quando são compostas pelos mesmos valores, mas não obrigatoriamente na mesma ordem. "
   ]
  },
  {
   "cell_type": "code",
   "execution_count": null,
   "metadata": {
    "collapsed": true
   },
   "outputs": [],
   "source": [
    "from itertools import product as i \n",
    "\n",
    "entrada1 = input(\"Insira os valores da lista 1: \")\n",
    "lista1 = entrada1.split(\",\")\n",
    "\n",
    "entrada2 = input(\"Insira os valores da lista 2: \")\n",
    "lista2 = entrada2.split(\",\")\n",
    "cont = 0\n",
    "\n",
    "for v1, v2 in i(lista1, lista2):\n",
    "    if v1 in v2:\n",
    "        cont += 1\n",
    "        \n",
    "if(len(lista1) == cont):\n",
    "    print(True)\n",
    "else:\n",
    "    print(False)"
   ]
  },
  {
   "cell_type": "markdown",
   "metadata": {},
   "source": [
    "#### 16- Faça um programa que percorre uma lista com o seguinte formato: \n",
    "#### [['Brasil', 'Italia', [10, 9]], ['Brasil', 'Espanha', [5, 7]], ['Italia', 'Espanha', [7,8]]]. \n",
    "#### Essa lista indica o número de faltas que cada time fez em cada jogo. \n",
    "#### Na lista acima, no jogo entre Brasil e Itália, o Brasil fez 10 faltas e a Itália fez 9. \n",
    "#### O programa deve imprimir na tela: \n",
    "#### - O total de faltas do campeonato \n",
    "#### - O time que fez mais faltas \n",
    "#### - O time que fez menos faltas "
   ]
  },
  {
   "cell_type": "code",
   "execution_count": null,
   "metadata": {
    "collapsed": true
   },
   "outputs": [],
   "source": [
    "campeonato = [['Brasil', 'Italia', [10, 9]], ['Brasil', 'Espanha', [5, 7]], ['Italia', 'Espanha', [7,8]]]\n",
    "\n",
    "total = 0\n",
    "brasil = 0\n",
    "italia = 0\n",
    "espanha = 0\n",
    "\n",
    "for falta in campeonato:\n",
    "    total = total + sum(falta[2])\n",
    "    if(falta[0] == 'Brasil'):\n",
    "        brasil = brasil + (falta[2][0])\n",
    "    elif(falta[1] == 'Brasil'):\n",
    "        brasil = brasil + (falta[2][1])\n",
    "    if(falta[0] == 'Italia'):\n",
    "        italia = italia + (falta[2][0])\n",
    "    elif(falta[1] == 'Italia'):\n",
    "        italia = italia + (falta[2][1])\n",
    "    if(falta[0] == 'Espanha'):\n",
    "        espanha = espanha + (falta[2][1])\n",
    "    elif(falta[1] == 'Espanha'):\n",
    "        espanha = espanha + (falta[2][1])\n",
    "    \n",
    "print(\"O total de faltas do campeonato é\", total)\n",
    "\n",
    "if(brasil > italia and brasil > espanha):\n",
    "    print(\"Time com mais faltas: Brasil\", brasil)\n",
    "if(italia > brasil and italia > espanha):\n",
    "    print(\"Time com mais faltas: Itália\", italia)\n",
    "if(espanha > brasil and espanha > italia):\n",
    "    print(\"Time com mais faltas: Espanha\", espanha)\n",
    "    \n",
    "if(brasil <= italia and brasil <= espanha):\n",
    "    print(\"Time com menos faltas: Brasil\", brasil)\n",
    "if(italia <= brasil and italia <= espanha):\n",
    "    print(\"Time com menos faltas: Itália\", italia)\n",
    "if(espanha <= brasil and espanha <= italia):\n",
    "    print(\"Time com menos faltas: Espanha\", espanha)"
   ]
  },
  {
   "cell_type": "markdown",
   "metadata": {},
   "source": [
    "### DICIONÁRIOS \n",
    "#### 17- Escreva um programa que conta a quantidade de vogais em uma string e armazena tal quantidade em um dicionário, onde a chave é a vogal considerada. "
   ]
  },
  {
   "cell_type": "code",
   "execution_count": null,
   "metadata": {
    "collapsed": true
   },
   "outputs": [],
   "source": [
    "from itertools import product as i\n",
    "\n",
    "dicionario = {}\n",
    "lista_vogal=['A', 'E', 'I', 'O', 'U']\n",
    "\n",
    "frase = input(\"Escreva uma frase: \")\n",
    "frase_nova= frase.upper()\n",
    "\n",
    "for vogal, lista_vogal in i(lista_vogal, frase_nova):\n",
    "    if vogal in lista_vogal:\n",
    "        quantidade = frase_nova.count(vogal)\n",
    "        dicionario[vogal] = quantidade\n",
    "        \n",
    "print(dicionario)"
   ]
  },
  {
   "cell_type": "markdown",
   "metadata": {},
   "source": [
    "#### 18- Escreva um programa que lê̂ duas notas de vários alunos e armazena tais notas em um dicionário, onde a chave é o nome do aluno. \n",
    "#### A entrada de dados deve terminar quando for lida uma string vazia como nome. \n",
    "#### Escreva uma função que retorna a média do aluno, dado seu nome. "
   ]
  },
  {
   "cell_type": "code",
   "execution_count": null,
   "metadata": {
    "collapsed": true
   },
   "outputs": [],
   "source": [
    "dicionario = {}\n",
    "\n",
    "while(True):\n",
    "    aluno = input(\"Insira o nome do aluno: \")\n",
    "    aluno_m = aluno.upper()\n",
    "    if(aluno != \"\"):\n",
    "        n1 = float(input(\"Insira a primeira nota: \"))\n",
    "        n2 = float(input(\"Insira a segunda nota: \"))\n",
    "        notas = [n1, n2]\n",
    "        dicionario[aluno_m] = notas\n",
    "    else:\n",
    "        break\n",
    "        \n",
    "def mediaAluno(nome):\n",
    "    nome_m = nome.upper()\n",
    "    lista = dicionario[nome_m]\n",
    "    media = sum(lista)/len(lista)\n",
    "    return(print(\"A média desse aluno é: %.2f\" %(media)))\n",
    "\n",
    "mediaAluno('andrey')"
   ]
  },
  {
   "cell_type": "markdown",
   "metadata": {},
   "source": [
    "#### 19- Uma pista de Kart permite 10 voltas para cada um de 6 corredores. \n",
    "#### Escreva um programa que leia todos os tempos em segundos e os guarde em um dicionário, onde a chave é o nome do corredor. \n",
    "#### Ao final diga de quem foi a melhor volta da prova e em que volta e ainda a classificação final em ordem (1o o campeão). \n",
    "#### O campeão é o que tem a menor média de tempos. "
   ]
  },
  {
   "cell_type": "code",
   "execution_count": null,
   "metadata": {
    "collapsed": true
   },
   "outputs": [],
   "source": [
    "from operator import itemgetter as item\n",
    "\n",
    "rally = {'Competidor1':[120, 110, 105, 99, 105, 110, 90, 98, 100, 100], \n",
    "         'Competidor2':[130,110,115,100,103,110,100,95,100,100], \n",
    "         'Competidor3':[150,120,117,120,115,110,110,120,115,100], \n",
    "         'Competidor4':[130,100,120,115,110,110,110,115,110,115], \n",
    "         'Competidor5':[150,130,120,110,115,110,110,120,130,100], \n",
    "         'Competidor6':[140,135,130,125,120,110,110,115,110,105]}\n",
    "\n",
    "melhorVolta = []\n",
    "pilotos = []\n",
    "classificacao = []\n",
    "\n",
    "for x in rally.values():\n",
    "    melhorVolta.append(min(x))\n",
    "    classificacao.append(int(sum(x) / 6))\n",
    "\n",
    "for indice, valor in enumerate(rally):\n",
    "    pilotos.append(valor)\n",
    "\n",
    "classificacao.sort()\n",
    "print(\"Melhor volta\", min(melhorVolta), \"segundos\")\n",
    "campeonato = {pilotos[0]:classificacao[0], \n",
    "              pilotos[1]:classificacao[1], \n",
    "              pilotos[2]:classificacao[2],\n",
    "              pilotos[3]:classificacao[3],\n",
    "              pilotos[4]:classificacao[4],\n",
    "              pilotos[5]:classificacao[5]}    \n",
    "\n",
    "print(\"Classificação do Campeonato:\")\n",
    "sorted(campeonato.items(), key=item(1))"
   ]
  },
  {
   "cell_type": "markdown",
   "metadata": {},
   "source": [
    "\n",
    "#### 20- Escreva um programa para armazenar uma agenda de telefones em um dicionário. \n",
    "#### Cada pessoa pode ter um ou mais telefones e a chave do dicionário é o nome da pessoa. \n",
    "#### Seu programa deve ter as seguintes funções: \n",
    "#### - incluirNovoNome – essa função acrescenta um novo nome na agenda, com um ou mais telefones. Ela deve receber como argumentos o nome e os telefones. \n",
    "#### - incluirTelefone – essa função acrescenta um telefone em um nome existente na agenda. Caso o nome não exista na agenda, você deve perguntar se a pessoa deseja inclui-lo. Caso a resposta seja afirmativa, use a função anterior para incluir o novo nome. \n",
    "#### - excluirTelefone – essa função exclui um telefone de uma pessoa que já está na agenda. Se a pessoa tiver apenas um telefone, ela deve ser excluída da agenda. \n",
    "#### - excluirNome – essa função exclui uma pessoa da agenda. \n",
    "#### - consultarTelefone – essa função retorna os telefones de uma pessoa na agenda"
   ]
  },
  {
   "cell_type": "code",
   "execution_count": null,
   "metadata": {
    "collapsed": true
   },
   "outputs": [],
   "source": [
    "listaTelefonica = {'João':[11112222, 22223333], 'Maria':[11010202], 'José':[12345678, 87654321]}\n",
    "\n",
    "def incluirNovoNome(novoNome, novoTelefone): \n",
    "    listaTelefonica.update({novoNome:[telefone]})\n",
    "    \n",
    "def incluirTelefone(buscaNome, novoTelefone):\n",
    "    listaTelefonica.update({buscaNome:[novoTelefone]})\n",
    "\n",
    "def excluirTelefone(excluiTelefone):\n",
    "    del(listaTelefonica[excluiTelefone])\n",
    "    \n",
    "def excluirNome(excluiNome):\n",
    "    listaTelefonica.pop(excluiNome)\n",
    "    \n",
    "def consultarTelefone(nome):\n",
    "    print(listaTelefonica[nome])\n",
    "\n",
    "nome = input(\"Digite o nome\")\n",
    "telefone = input(\"Digite o(s) telefone(s)\")\n",
    "incluirNovoNome(nome, telefone)\n",
    "\n",
    "nome = input(\"Digite o nome\")\n",
    "telefone = input(\"Digite o(s) telefone(s)\")\n",
    "incluirTelefone(nome, telefone)\n",
    "\n",
    "telefone = input(\"Digite o(s) telefone(s)\")\n",
    "excluirTelefone(telefone)\n",
    "\n",
    "nome = input(\"Digite o nome\")\n",
    "excluirNome(nome)\n",
    "\n",
    "nome = input(\"Digite o nome\")\n",
    "consultarTelefone(nome)\n",
    "\n",
    "print(listaTelefonica)"
   ]
  },
  {
   "cell_type": "markdown",
   "metadata": {},
   "source": [
    "### ARQUIVOS \n",
    "#### 21- Faça um programa que leia um arquivo texto contendo uma lista de endereços IP e gere um outro arquivo, contendo um relatório dos endereços IP válidos e inválidos. \n",
    "#### O arquivo de entrada possui o seguinte formato: \n",
    "#### [Endereços válidos:] \n",
    "#### 200.135.80.9 \n",
    "#### 192.168.1.1 \n",
    "#### 8.35.67.74 \n",
    "#### 1.2.3.4 \n",
    "#### [Endereços inválidos:] \n",
    "#### 257.32.4.5 \n",
    "#### 85.345.1.2 \n",
    "#### 9.8.234.5 \n",
    "#### 192.168.0.256 "
   ]
  },
  {
   "cell_type": "code",
   "execution_count": null,
   "metadata": {
    "collapsed": true
   },
   "outputs": [],
   "source": [
    "import re\n",
    "def regex(pattern, string):\n",
    "\tcapt = re.match(pattern, string)\n",
    "\tif bool(capt):\n",
    "\t\treturn capt.group()\n",
    "\treturn False\n",
    "\n",
    "ip_v = ''\n",
    "ip_i = ''\n",
    "list = {'0.25.33.19', '127.0.1.1','127.0.0.2','127.0.0.1','192.0.0.256','0.168.1.36','1.1.0.99','200.135.80.9','192.168.1.1','8.35.67.74','257.32.4.5','85.345.1.2','1.2.3.4','9.8.234.5','192.168.0.256'}\n",
    "for ip in list:\n",
    "\tif ip == '0.0.0.0':\n",
    "\t\tip_v = ip_v + '\\n' + ip\n",
    "\telif regex('^(([1-9]\\.|[1-9][0-9]\\.|1[0-9][0-9]\\.|2[0-4][0-9]\\.|25[0-5]\\.)([0-9]\\.|[1-9][0-9]\\.|1[0-9][0-9]\\.|2[0-4][0-9]\\.|25[0-5]\\.)([0-9]\\.|[1-9][0-9]\\.|1[0-9][0-9]\\.|2[0-4][0-9]\\.|25[0-5]\\.)([0-9]\\.|[1-9][0-9]\\.|1[0-9][0-9]\\.|2[0-4][0-9]\\.|25[0-5]\\.))$', ip + '.'):\n",
    "\t\tip_v = ip_v + '\\n' + ip\n",
    "\telse:\n",
    "\t\tip_i = ip_i + '\\n' + ip\n",
    "\n",
    "print('[Endereços válidos:]')\n",
    "print(ip_v)\n",
    "print('[Endereços inválidos:]')\n",
    "print(ip_i)"
   ]
  },
  {
   "cell_type": "markdown",
   "metadata": {},
   "source": [
    "#### 22- A ACME Inc., uma empresa de 500 funcionários, está tendo problemas de espaço em disco no seu servidor de arquivos. \n",
    "#### Para tentar resolver este problema, o Administrador de Rede precisa saber qual o espaço ocupado pelos usuários, e identificar os usuários com maior espaço ocupado. \n",
    "#### Através de um programa, baixado da Internet, ele conseguiu gerar o seguinte arquivo, chamado usuarios.txt: \n",
    "#### alexandre 456123789 \n",
    "#### anderson 1245698456 \n",
    "#### antonio 123456456 \n",
    "#### carlos 91257581 \n",
    "#### cesar 987458 \n",
    "#### rosemary 789456125 \n",
    "#### Neste arquivo, o nome do usuário possui 15 caracteres. \n",
    "#### A partir deste arquivo, você deve criar um programa que gere um relatório, chamado relatório.txt, no seguinte formato: \n",
    "#### O arquivo de entrada deve ser lido uma única vez, e os dados armazenados em memória, caso sejam necessários, de forma a agilizar a execução do programa. \n",
    "#### A conversão da espaço ocupado em disco, de bytes para megabytes deverá ser feita através de uma função separada, que será chamada pelo programa principal. \n",
    "#### O cálculo do percentual de uso também deverá ser feito através de uma função, que será chamada pelo programa principal. "
   ]
  },
  {
   "cell_type": "code",
   "execution_count": null,
   "metadata": {
    "collapsed": true
   },
   "outputs": [],
   "source": [
    "def toMB(tamanhoEmBytes):\n",
    "    tamanhoEmBytes = float(tamanhoEmBytes)\n",
    "    return (float(tamanhoEmBytes/(1024*1024)))\n",
    "   \n",
    "def percentualPorUsuario(lista, total):\n",
    "    percentual = (lista[3]/total)*100\n",
    "   #percentual = \"{0:.2f}\".format(percentual)\n",
    "    lista.insert((len(cadaUsuario)),percentual)\n",
    "\n",
    "def espacoMedioOcupado(lista, total):\n",
    "    media = 0\n",
    "    total=2\n",
    "    elementos = len(lista)\n",
    "    media = (total)/(elementos+1)\n",
    "   #media = \"{0:.2f}\".format(media)\n",
    "    return media\n",
    "\n",
    "#MAIN\n",
    "usuarios = []\n",
    "posicao = 1\n",
    "total = media = 0\n",
    "cadaUsuario = 0\n",
    "with open (\"usuarios.txt\",\"r\") as arquivo:\n",
    "    valor = 0\n",
    "    for linha in arquivo:\n",
    "        usuarios.append(linha.split()) \n",
    "\n",
    "    for cadaUsuario in usuarios:\n",
    "        cadaUsuario.insert(0,posicao)\n",
    "        valor = toMB(float(cadaUsuario[2]))\n",
    "        total += valor\n",
    "        cadaUsuario.insert((len(cadaUsuario)),valor)\n",
    "        posicao+=1\n",
    "\n",
    "    for cadaUsuario in usuarios:\n",
    "        percentualPorUsuario(cadaUsuario, total)\n",
    "\n",
    "media = espacoMedioOcupado(cadaUsuario,total)\n",
    "with open (\"relatorio.txt\",\"w\") as arquivo:\n",
    "    arquivo.write(\"ACME Inc.               Uso do espaço em disco pelos usuários.\\n\")\n",
    "    arquivo.write(\"--------------------------------------------------------------\\n\")\n",
    "    arquivo.write(\"Nr.\\tUsuário        \\tEspaço utilizado\\t% do uso\\n\\n\")\n",
    "\n",
    "    for cadaUsuario in usuarios:\n",
    "        percentagem=\"{0:.2f}\".format(round(cadaUsuario[3],2))\n",
    "        arquivo.write(str(cadaUsuario[0])+'\\t'+\"{:<15}\".format(cadaUsuario[1])+'\\t'+\"{:<16}\".format(percentagem)+'MB'+'\\t'+\"{0:.2f}\".format(cadaUsuario[4])+'%'+'\\n')\n",
    "\n",
    "        arquivo.write('\\n\\nEspaço Total Ocupado: ' + \"{0:.2f}\".format(total) + ' MB')\n",
    "        arquivo.write('\\n\\nEspaço médio Ocupado: ' + \"{0:.2f}\".format(media) + ' MB')\n",
    "    arquivo.close()\n",
    "\n",
    "with open (\"relatorio.txt\",\"r\") as arquivo:\n",
    "    print(arquivo.read())"
   ]
  }
 ],
 "metadata": {
  "kernelspec": {
   "display_name": "Python 3",
   "language": "python",
   "name": "python3"
  },
  "language_info": {
   "codemirror_mode": {
    "name": "ipython",
    "version": 3
   },
   "file_extension": ".py",
   "mimetype": "text/x-python",
   "name": "python",
   "nbconvert_exporter": "python",
   "pygments_lexer": "ipython3",
   "version": "3.6.5"
  }
 },
 "nbformat": 4,
 "nbformat_minor": 2
}
